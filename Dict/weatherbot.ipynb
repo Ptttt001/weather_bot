{
  "nbformat": 4,
  "nbformat_minor": 0,
  "metadata": {
    "colab": {
      "provenance": [],
      "authorship_tag": "ABX9TyN7J3P46iIjqf4LQrul4zFh",
      "include_colab_link": true
    },
    "kernelspec": {
      "name": "python3",
      "display_name": "Python 3"
    },
    "language_info": {
      "name": "python"
    }
  },
  "cells": [
    {
      "cell_type": "markdown",
      "metadata": {
        "id": "view-in-github",
        "colab_type": "text"
      },
      "source": [
        "<a href=\"https://colab.research.google.com/github/Ptttt001/weather_bot/blob/main/Dict/weatherbot.ipynb\" target=\"_parent\"><img src=\"https://colab.research.google.com/assets/colab-badge.svg\" alt=\"Open In Colab\"/></a>"
      ]
    },
    {
      "cell_type": "code",
      "execution_count": null,
      "metadata": {
        "id": "J4Wv3JLbOfTs"
      },
      "outputs": [],
      "source": [
        "import requests\n",
        "\n",
        "url = \"\"#輸入取得的連結\n",
        "data = requests.get(url).json()\n",
        "\n",
        "location=data['records']['location'][0]['locationName']\n",
        "time=data['records']['location'][0]['weatherElement'][1]['time'][1]['startTime']\n",
        "parameter=data['records']['location'][0]['weatherElement'][0]['time'][2]['parameter']['parameterName']\n",
        "minT=data['records']['location'][0]['weatherElement'][2]['time'][1]['parameter']['parameterName']\n",
        "maxT=data['records']['location'][0]['weatherElement'][4]['time'][1]['parameter']['parameterName']\n",
        "rain=data['records']['location'][0]['weatherElement'][1]['time'][1]['parameter']['parameterName']\n",
        "\n",
        "msg='地區:' +location+ '\\n' + '日期:'+ time + '\\n' + '天氣狀況:' + parameter +'\\n'+ '氣溫:' +minT+ '度-' + maxT + '度' + '\\n' + '降雨機率:' + rain + '%'\n",
        "token =\"\"#輸入line權杖\n",
        "\n",
        "# line notify所需\n",
        "line_url = \"https://notify-api.line.me/api/notify\"\n",
        "line_header = { \"Authorization\" : 'Bearer ' + token ,\"Content-Type\": \"application/x-www-form-urlencoded\"}\n",
        "line_data = { \"message\": msg }\n",
        "\n",
        "requests.post(url=line_url, headers=line_header, data=line_data)"
      ]
    },
    {
      "cell_type": "code",
      "source": [],
      "metadata": {
        "id": "LC7JR5uBPles"
      },
      "execution_count": null,
      "outputs": []
    }
  ]
}